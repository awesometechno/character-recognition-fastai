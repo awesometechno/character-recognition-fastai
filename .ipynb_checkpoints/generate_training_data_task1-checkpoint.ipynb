{
 "cells": [
  {
   "cell_type": "code",
   "execution_count": 1,
   "metadata": {},
   "outputs": [],
   "source": [
    "from glob import glob\n",
    "import cv2\n",
    "import json\n",
    "import numpy as np\n",
    "from tqdm import tqdm\n",
    "from pathlib import Path\n",
    "\n",
    "from matplotlib import pyplot as plt"
   ]
  },
  {
   "cell_type": "code",
   "execution_count": 2,
   "metadata": {},
   "outputs": [],
   "source": [
    "path_json = \"D:/RRC2019_ReCTS/gt_unicode/\"\n",
    "path_img = \"D:/RRC2019_ReCTS/img/\""
   ]
  },
  {
   "cell_type": "code",
   "execution_count": 3,
   "metadata": {},
   "outputs": [
    {
     "data": {
      "text/plain": [
       "20000"
      ]
     },
     "execution_count": 3,
     "metadata": {},
     "output_type": "execute_result"
    }
   ],
   "source": [
    "fns = glob(path_img + \"*.jpg\"); len(fns)"
   ]
  },
  {
   "cell_type": "code",
   "execution_count": 4,
   "metadata": {},
   "outputs": [],
   "source": [
    "clahe = cv2.createCLAHE(\n",
    "    clipLimit=2.0, \n",
    "    tileGridSize=(4,4))"
   ]
  },
  {
   "cell_type": "code",
   "execution_count": 5,
   "metadata": {},
   "outputs": [],
   "source": [
    "def clahe_rgb(img):\n",
    "    img_eq = np.concatenate([np.expand_dims(clahe.apply(img[...,i:i+1]), -1) for i in range(3)], axis=-1)\n",
    "    return img_eq\n",
    "\n",
    "def save_char_box_images(fn, dst=\"D:/RRC2019_ReCTS/char_imgs_case_sensitive/\", dst_clahe=\"D:/RRC2019_ReCTS/char_imgs_clahe/\"):\n",
    "    raw_fn = Path(fn).stem\n",
    "    json_data = json.load(open(f\"{path_json}/{raw_fn}.json\", encoding=\"utf-8_sig\"))\n",
    "    img = cv2.imread(fn)[..., ::-1].astype(np.uint8)\n",
    "    h, w, _ = img.shape\n",
    "    \n",
    "    for i, c in enumerate(json_data['chars']):\n",
    "        y0, x0, y1, x1, y2, x2, y3, x3 = c['points']\n",
    "        transcription = c['transcription']\n",
    "        \n",
    "        # handling invalid chars\n",
    "        if transcription in [\":\", \"；\", \":\"]:\n",
    "            transcription = \"colon\"\n",
    "        elif transcription == \"\\\\\":\n",
    "            transcription = \"back_slash\"\n",
    "        elif transcription == \"/\":\n",
    "            transcription = \"slash\"\n",
    "        elif transcription == \"?\":\n",
    "            transcription = \"question_mark\"\n",
    "        elif transcription == \"*\":\n",
    "            transcription = \"star\"\n",
    "        elif transcription == \"\\\"\":\n",
    "            transcription = \"quotation_mark\"\n",
    "        elif transcription == \"<\":\n",
    "            transcription = \"less_than_sign\"\n",
    "        elif transcription == \">\":\n",
    "            transcription = \"greater_than_sign\"\n",
    "        elif transcription == \"|\":\n",
    "            transcription = \"vertical_bar\"\n",
    "        elif transcription in [\",\", \".\", \"，\", \"．\", \"、\", \"。\", \"·\"]:\n",
    "            transcription = \"dot\"\n",
    "        elif transcription in [ \"'\", \"＇\", \"＂\", \"〃\", \"‘\", \"’\", \"“\", \"”\", \"｀\", \"′\", \"″\"]:\n",
    "            transcription = \"quotation_mark\"\n",
    "        elif transcription in [\")\", \"）\", \"〕\", \"〉\", \"］\", \"｝\", \"〗\", \"】\"]:\n",
    "            transcription = \"right_bracket\"\n",
    "        elif transcription in [\"(\", \"（\", \"〔\", \"〈\", \"［\", \"｛\", \"〖\", \"【\"]:\n",
    "            transcription = \"left_bracket\"\n",
    "        elif transcription == \"\\xad\":\n",
    "            transcription = \"soft_hypen\"\n",
    "        elif transcription in [\"_\", \"-\", \"＿\", \"－\", \"ˉ\", \"—\"]:\n",
    "            transcription = \"dash\"\n",
    "        elif transcription in ['a','b','c','d','e','f','g','h','i','j','k','l','m','n','o','p','q','r','s','t','u','v','w','x','y','z']:\n",
    "            transcription = \"lower_\" + transcription\n",
    "        elif transcription in ['A','B','C','D','E','F','G','H','I','J','K','L','M','N','O','P','Q','R','S','T','U','V','W','X','Y','Z']:\n",
    "            transcription = \"upper_\" + transcription            \n",
    "    \n",
    "        top, left = np.minimum(x0, x1), np.minimum(y0, y3)\n",
    "        button, right = np.maximum(x2, x3), np.maximum(y1, y2)\n",
    "        top = np.maximum(top, 0)\n",
    "        left = np.maximum(left, 0)\n",
    "        button = np.minimum(button, h)\n",
    "        right = np.minimum(right, w)\n",
    "        \n",
    "        if (button - top)*(right-left) <= 14*14:\n",
    "            continue\n",
    "        \n",
    "        #char_bbox = (top_left, button_right)\n",
    "        char_img = img[top:button, left:right].copy()\n",
    "        \n",
    "        dst_folder = dst+f\"{str(transcription)}/\"\n",
    "        dst_clahe_folder = dst_clahe+f\"{str(transcription)}/\"\n",
    "        Path(dst_folder).mkdir(parents=True, exist_ok=True)\n",
    "        Path(dst_clahe_folder).mkdir(parents=True, exist_ok=True)\n",
    "        plt.imsave(fname=f\"{dst_folder}{raw_fn}_char{str(i)}.jpg\", arr=char_img, format=\"jpg\")\n",
    "        if not transcription in ['0','1','2','3','4','5','6','7','8','9']:\n",
    "            char_img_clahe = clahe_rgb(char_img)\n",
    "            plt.imsave(fname=f\"{dst_folder}{raw_fn}_char{str(i)}_clahe.jpg\", arr=char_img_clahe, format=\"jpg\")\n",
    "    "
   ]
  },
  {
   "cell_type": "code",
   "execution_count": 6,
   "metadata": {},
   "outputs": [
    {
     "name": "stderr",
     "output_type": "stream",
     "text": [
      "100%|██████████████████████████████████████████████████████████████████████████| 20000/20000 [2:08:12<00:00,  5.14it/s]\n"
     ]
    }
   ],
   "source": [
    "for fn in tqdm(fns):\n",
    "    save_char_box_images(fn)"
   ]
  },
  {
   "cell_type": "code",
   "execution_count": null,
   "metadata": {},
   "outputs": [],
   "source": []
  },
  {
   "cell_type": "code",
   "execution_count": null,
   "metadata": {},
   "outputs": [],
   "source": []
  },
  {
   "cell_type": "code",
   "execution_count": null,
   "metadata": {},
   "outputs": [],
   "source": []
  }
 ],
 "metadata": {
  "kernelspec": {
   "display_name": "Python 3",
   "language": "python",
   "name": "python3"
  },
  "language_info": {
   "codemirror_mode": {
    "name": "ipython",
    "version": 3
   },
   "file_extension": ".py",
   "mimetype": "text/x-python",
   "name": "python",
   "nbconvert_exporter": "python",
   "pygments_lexer": "ipython3",
   "version": "3.6.6"
  }
 },
 "nbformat": 4,
 "nbformat_minor": 2
}
